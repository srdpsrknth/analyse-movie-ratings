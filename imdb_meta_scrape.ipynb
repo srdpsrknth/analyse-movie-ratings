{
 "cells": [
  {
   "cell_type": "code",
   "execution_count": 1,
   "metadata": {},
   "outputs": [],
   "source": [
    "from requests import get\n",
    "from bs4 import BeautifulSoup\n",
    "import pandas as pd\n",
    "import numpy as np\n",
    "from time import sleep\n",
    "from random import randint\n",
    "from IPython.core.display import clear_output\n",
    "from time import time\n",
    "import re"
   ]
  },
  {
   "cell_type": "code",
   "execution_count": 2,
   "metadata": {},
   "outputs": [],
   "source": [
    "url = r\"https://www.imdb.com/search/title/?title_type=feature&release_date=1990-01-01,&num_votes=1000,&languages=en&sort=num_votes,desc&count=250\""
   ]
  },
  {
   "cell_type": "code",
   "execution_count": 3,
   "metadata": {},
   "outputs": [],
   "source": [
    "def get_search_html(url):\n",
    "    response = get(url)\n",
    "    html_soup = BeautifulSoup(response.text, 'html.parser')\n",
    "    return html_soup"
   ]
  },
  {
   "cell_type": "code",
   "execution_count": 4,
   "metadata": {},
   "outputs": [],
   "source": [
    "def get_next_url(soup):\n",
    "    path = soup.find('a', class_=\"lister-page-next next-page\")\n",
    "    if path is None:\n",
    "        return None\n",
    "    else:\n",
    "        path = path['href']\n",
    "        next_url = r\"https://www.imdb.com/\" + path\n",
    "        return next_url"
   ]
  },
  {
   "cell_type": "code",
   "execution_count": 5,
   "metadata": {},
   "outputs": [],
   "source": [
    "def make_db(url):\n",
    "    start_time = time()\n",
    "    requests = 0\n",
    "    no_meta = 0\n",
    "    \n",
    "    titles = []\n",
    "    release_year = []\n",
    "    runtimes = []\n",
    "    genres = []\n",
    "    imdb_ratings = []\n",
    "    meta_ratings = []\n",
    "    imdb_votes = []\n",
    "    \n",
    "    while url is not None:\n",
    "        soup = get_search_html(url)\n",
    "        url = get_next_url(soup)\n",
    "        movie_containers = soup.find_all('div', class_='lister-item mode-advanced')\n",
    "        \n",
    "        for movie in movie_containers:\n",
    "            if movie.find('div', class_='ratings-metascore') is not None:\n",
    "\n",
    "                if movie.h3 is not None:\n",
    "                    title = movie.h3.a.text\n",
    "                    if title is None:\n",
    "                        title = np.nan\n",
    "                else:\n",
    "                    title = np.nan\n",
    "                titles.append(title)\n",
    "\n",
    "                if movie.h3.find('span', class_='lister-item-year') is not None:\n",
    "                    year = movie.h3.find('span', class_='lister-item-year').text\n",
    "                    if year is None:\n",
    "                        year = np.nan\n",
    "                else:\n",
    "                    year = np.nan\n",
    "                release_year.append(year)\n",
    "\n",
    "                if movie.find('span', class_='runtime') is not None:\n",
    "                    runtime = movie.find('span', class_='runtime').text\n",
    "                    if runtime is None:\n",
    "                        runtime = np.nan\n",
    "                else:\n",
    "                    runtime = np.nan\n",
    "                runtimes.append(runtime)\n",
    "\n",
    "                if movie.find('span', class_='genre') is not None:\n",
    "                    genre = movie.find('span', class_='genre').text\n",
    "                    if genre is None:\n",
    "                        genre = np.nan\n",
    "                    else:\n",
    "                        genre = genre.strip()\n",
    "                else:\n",
    "                    genre = np.nan\n",
    "                genres.append(genre)\n",
    "\n",
    "                if movie.find('div', class_='ratings-bar').find('div', class_='ratings-imdb-rating') is not None:\n",
    "                    imdb_rating = float(movie.find('div', class_='ratings-bar').find('div', class_='ratings-imdb-rating').strong.text)\n",
    "                    if imdb_rating is None:\n",
    "                        imdb_rating = np.nan\n",
    "                else:\n",
    "                    imdb_rating = np.nan\n",
    "                imdb_ratings.append(imdb_rating)\n",
    "\n",
    "                if movie.find('span', class_='metascore') is not None:\n",
    "                    meta_rating = int(movie.find('span', class_='metascore').text)\n",
    "                    if meta_rating is None:\n",
    "                        meta_rating = np.nan\n",
    "                else:\n",
    "                    meta_rating = np.nan\n",
    "                meta_ratings.append(meta_rating)\n",
    "\n",
    "                num_imdb_votes = movie.find('span', {\"name\":\"nv\"})\n",
    "                if num_imdb_votes is None:\n",
    "                    num_imdb_votes = np.nan\n",
    "                else:\n",
    "                    num_imdb_votes = int(num_imdb_votes[\"data-value\"].strip().replace(',',''))\n",
    "                    imdb_votes.append(num_imdb_votes)\n",
    "            else:\n",
    "                print(\"No Metacritic Score available for this movie!!\")\n",
    "                no_meta += 1\n",
    "        \n",
    "        sleep(randint(2,5))\n",
    "    \n",
    "        requests += 1\n",
    "        elapsed_time = time() - start_time\n",
    "        print('Request:{}; Frequency: {} requests/s'.format(requests, requests/elapsed_time))\n",
    "        clear_output(wait = True)\n",
    "        \n",
    "    df = pd.DataFrame({'movie':titles,\n",
    "                          'year':release_year,\n",
    "                          'runtime':runtimes,\n",
    "                          'genre':genres,\n",
    "                          'imdb':imdb_ratings,\n",
    "                          'meta':meta_ratings,\n",
    "                          'imdb_votes':imdb_votes\n",
    "                         })\n",
    "    return df\n",
    "\n",
    "    "
   ]
  },
  {
   "cell_type": "code",
   "execution_count": 6,
   "metadata": {
    "scrolled": true
   },
   "outputs": [
    {
     "name": "stdout",
     "output_type": "stream",
     "text": [
      "No Metacritic Score available for this movie!!\n",
      "No Metacritic Score available for this movie!!\n",
      "No Metacritic Score available for this movie!!\n",
      "No Metacritic Score available for this movie!!\n",
      "No Metacritic Score available for this movie!!\n",
      "No Metacritic Score available for this movie!!\n",
      "No Metacritic Score available for this movie!!\n",
      "No Metacritic Score available for this movie!!\n",
      "No Metacritic Score available for this movie!!\n",
      "No Metacritic Score available for this movie!!\n",
      "No Metacritic Score available for this movie!!\n",
      "Request:60; Frequency: 0.11099970214989238 requests/s\n"
     ]
    }
   ],
   "source": [
    "imdb_meta_df = make_db(url)"
   ]
  },
  {
   "cell_type": "code",
   "execution_count": 9,
   "metadata": {},
   "outputs": [],
   "source": [
    "imdb_meta_df['year'] = imdb_meta_df['year'].str.extract(r'([0-9]\\w+)')"
   ]
  },
  {
   "cell_type": "code",
   "execution_count": 11,
   "metadata": {},
   "outputs": [],
   "source": [
    "imdb_meta_df.to_csv('imdb_meta.csv', index=False)"
   ]
  },
  {
   "cell_type": "code",
   "execution_count": null,
   "metadata": {},
   "outputs": [],
   "source": []
  }
 ],
 "metadata": {
  "kernelspec": {
   "display_name": "Python 3",
   "language": "python",
   "name": "python3"
  },
  "language_info": {
   "codemirror_mode": {
    "name": "ipython",
    "version": 3
   },
   "file_extension": ".py",
   "mimetype": "text/x-python",
   "name": "python",
   "nbconvert_exporter": "python",
   "pygments_lexer": "ipython3",
   "version": "3.8.3"
  }
 },
 "nbformat": 4,
 "nbformat_minor": 4
}

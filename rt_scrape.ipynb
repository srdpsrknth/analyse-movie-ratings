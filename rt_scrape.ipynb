{
 "cells": [
  {
   "cell_type": "code",
   "execution_count": 1,
   "metadata": {
    "ExecuteTime": {
     "end_time": "2021-03-12T16:27:37.378162Z",
     "start_time": "2021-03-12T16:27:36.747353Z"
    }
   },
   "outputs": [],
   "source": [
    "from requests import get\n",
    "from bs4 import BeautifulSoup\n",
    "import pandas as pd\n",
    "import numpy as np\n",
    "from time import sleep\n",
    "from random import randint\n",
    "from IPython.core.display import clear_output\n",
    "from urllib.parse import quote"
   ]
  },
  {
   "cell_type": "code",
   "execution_count": 47,
   "metadata": {
    "ExecuteTime": {
     "end_time": "2021-03-12T16:57:04.905921Z",
     "start_time": "2021-03-12T16:57:02.441401Z"
    }
   },
   "outputs": [],
   "source": [
    "import selenium\n",
    "from selenium import webdriver\n",
    "from selenium.common.exceptions import NoSuchElementException\n",
    "driver = webdriver.Chrome()"
   ]
  },
  {
   "cell_type": "code",
   "execution_count": 3,
   "metadata": {
    "ExecuteTime": {
     "end_time": "2021-03-12T16:27:45.613332Z",
     "start_time": "2021-03-12T16:27:45.609731Z"
    }
   },
   "outputs": [],
   "source": [
    "errors = []"
   ]
  },
  {
   "cell_type": "code",
   "execution_count": 4,
   "metadata": {
    "ExecuteTime": {
     "end_time": "2021-03-12T16:27:46.176611Z",
     "start_time": "2021-03-12T16:27:46.172171Z"
    }
   },
   "outputs": [],
   "source": [
    "def expand_shadow_element(element):\n",
    "    shadow_root = driver.execute_script('return arguments[0].shadowRoot',\n",
    "                                        element)\n",
    "    return shadow_root"
   ]
  },
  {
   "cell_type": "code",
   "execution_count": 5,
   "metadata": {
    "ExecuteTime": {
     "end_time": "2021-03-12T16:27:46.675932Z",
     "start_time": "2021-03-12T16:27:46.666508Z"
    }
   },
   "outputs": [],
   "source": [
    "def get_rt_movie_url(movie, year):\n",
    "    clear_output(wait=True)\n",
    "\n",
    "    url = r\"https://www.rottentomatoes.com/search?search=\" + quote(movie)\n",
    "\n",
    "    driver.get(url)\n",
    "    try:\n",
    "        root1 = driver.find_element_by_tag_name('search-result-container')\n",
    "        shadow_root1 = expand_shadow_element(root1)\n",
    "\n",
    "        root2 = shadow_root1.find_element_by_css_selector(\n",
    "            \"search-result[type='movie']\")\n",
    "        shadow_root2 = expand_shadow_element(root2)\n",
    "\n",
    "        html_of_interest = driver.execute_script(\n",
    "            'return arguments[0].innerHTML', shadow_root2)\n",
    "        sel_soup = BeautifulSoup(html_of_interest, 'html.parser')\n",
    "\n",
    "        movie_url = sel_soup.find('media-row', {'releaseyear': year})\n",
    "    except NoSuchElementException:\n",
    "        errors.append(movie)\n",
    "        print(\"Movie not found!!\")\n",
    "        return None\n",
    "\n",
    "    #driver.quit()\n",
    "\n",
    "    #print(type(movie_url))\n",
    "    if movie_url is not None:\n",
    "        print(\"get_rt_movie_url\\nMovie:{},url:{}\".format(\n",
    "            movie, movie_url['url']))\n",
    "        sleep(randint(1, 3))\n",
    "        return movie_url['url']\n",
    "    else:\n",
    "        print(\"Movie Url not found!\")\n",
    "        sleep(randint(1, 3))\n",
    "        return None"
   ]
  },
  {
   "cell_type": "code",
   "execution_count": 6,
   "metadata": {
    "ExecuteTime": {
     "end_time": "2021-03-12T16:27:47.350950Z",
     "start_time": "2021-03-12T16:27:47.342427Z"
    }
   },
   "outputs": [],
   "source": [
    "def get_rt_scores(movie, year):\n",
    "    movie_url = get_rt_movie_url(movie, year)\n",
    "    a = np.nan\n",
    "    c = np.nan\n",
    "\n",
    "    if movie_url is not None:\n",
    "        try:\n",
    "            response = get(movie_url)\n",
    "            html_soup = BeautifulSoup(response.text, 'html.parser')\n",
    "\n",
    "            x = html_soup.find('score-board')\n",
    "\n",
    "            sleep(randint(1, 3))\n",
    "\n",
    "            a = x['audiencescore']\n",
    "            c = x['tomatometerscore']\n",
    "        except TypeError:\n",
    "            errors.append(movie)\n",
    "            print(\"TypeError raised\")\n",
    "\n",
    "        print(\"get_rt_scores\\nMovie:{},critic:{},audience:{}\".format(\n",
    "            movie, c, a))\n",
    "\n",
    "    return [c, a]"
   ]
  },
  {
   "cell_type": "code",
   "execution_count": 7,
   "metadata": {
    "ExecuteTime": {
     "end_time": "2021-03-12T16:27:49.527086Z",
     "start_time": "2021-03-12T16:27:49.502208Z"
    }
   },
   "outputs": [],
   "source": [
    "imdb_df = pd.read_csv('imdb_meta.csv')"
   ]
  },
  {
   "cell_type": "code",
   "execution_count": 8,
   "metadata": {
    "ExecuteTime": {
     "end_time": "2021-03-12T16:27:49.949264Z",
     "start_time": "2021-03-12T16:27:49.924253Z"
    }
   },
   "outputs": [
    {
     "data": {
      "text/html": [
       "<div>\n",
       "<style scoped>\n",
       "    .dataframe tbody tr th:only-of-type {\n",
       "        vertical-align: middle;\n",
       "    }\n",
       "\n",
       "    .dataframe tbody tr th {\n",
       "        vertical-align: top;\n",
       "    }\n",
       "\n",
       "    .dataframe thead th {\n",
       "        text-align: right;\n",
       "    }\n",
       "</style>\n",
       "<table border=\"1\" class=\"dataframe\">\n",
       "  <thead>\n",
       "    <tr style=\"text-align: right;\">\n",
       "      <th></th>\n",
       "      <th>movie</th>\n",
       "      <th>year</th>\n",
       "      <th>runtime</th>\n",
       "      <th>genre</th>\n",
       "      <th>imdb</th>\n",
       "      <th>meta</th>\n",
       "      <th>imdb_votes</th>\n",
       "    </tr>\n",
       "  </thead>\n",
       "  <tbody>\n",
       "    <tr>\n",
       "      <th>0</th>\n",
       "      <td>The Shawshank Redemption</td>\n",
       "      <td>1994</td>\n",
       "      <td>142 min</td>\n",
       "      <td>Drama</td>\n",
       "      <td>9.3</td>\n",
       "      <td>80</td>\n",
       "      <td>2360495</td>\n",
       "    </tr>\n",
       "    <tr>\n",
       "      <th>1</th>\n",
       "      <td>The Dark Knight</td>\n",
       "      <td>2008</td>\n",
       "      <td>152 min</td>\n",
       "      <td>Action, Crime, Drama</td>\n",
       "      <td>9.0</td>\n",
       "      <td>84</td>\n",
       "      <td>2319761</td>\n",
       "    </tr>\n",
       "    <tr>\n",
       "      <th>2</th>\n",
       "      <td>Inception</td>\n",
       "      <td>2010</td>\n",
       "      <td>148 min</td>\n",
       "      <td>Action, Adventure, Sci-Fi</td>\n",
       "      <td>8.8</td>\n",
       "      <td>74</td>\n",
       "      <td>2083710</td>\n",
       "    </tr>\n",
       "    <tr>\n",
       "      <th>3</th>\n",
       "      <td>Fight Club</td>\n",
       "      <td>1999</td>\n",
       "      <td>139 min</td>\n",
       "      <td>Drama</td>\n",
       "      <td>8.8</td>\n",
       "      <td>66</td>\n",
       "      <td>1868351</td>\n",
       "    </tr>\n",
       "    <tr>\n",
       "      <th>4</th>\n",
       "      <td>Pulp Fiction</td>\n",
       "      <td>1994</td>\n",
       "      <td>154 min</td>\n",
       "      <td>Crime, Drama</td>\n",
       "      <td>8.9</td>\n",
       "      <td>94</td>\n",
       "      <td>1839615</td>\n",
       "    </tr>\n",
       "    <tr>\n",
       "      <th>...</th>\n",
       "      <td>...</td>\n",
       "      <td>...</td>\n",
       "      <td>...</td>\n",
       "      <td>...</td>\n",
       "      <td>...</td>\n",
       "      <td>...</td>\n",
       "      <td>...</td>\n",
       "    </tr>\n",
       "    <tr>\n",
       "      <th>8887</th>\n",
       "      <td>Falling Overnight</td>\n",
       "      <td>2011</td>\n",
       "      <td>86 min</td>\n",
       "      <td>Drama, Romance</td>\n",
       "      <td>6.7</td>\n",
       "      <td>40</td>\n",
       "      <td>1002</td>\n",
       "    </tr>\n",
       "    <tr>\n",
       "      <th>8888</th>\n",
       "      <td>Fremde Haut</td>\n",
       "      <td>2005</td>\n",
       "      <td>97 min</td>\n",
       "      <td>Drama</td>\n",
       "      <td>7.0</td>\n",
       "      <td>60</td>\n",
       "      <td>1002</td>\n",
       "    </tr>\n",
       "    <tr>\n",
       "      <th>8889</th>\n",
       "      <td>Bam gua nat</td>\n",
       "      <td>2008</td>\n",
       "      <td>144 min</td>\n",
       "      <td>Drama</td>\n",
       "      <td>7.1</td>\n",
       "      <td>73</td>\n",
       "      <td>1001</td>\n",
       "    </tr>\n",
       "    <tr>\n",
       "      <th>8890</th>\n",
       "      <td>Awful Nice</td>\n",
       "      <td>2013</td>\n",
       "      <td>92 min</td>\n",
       "      <td>Comedy</td>\n",
       "      <td>4.9</td>\n",
       "      <td>42</td>\n",
       "      <td>1000</td>\n",
       "    </tr>\n",
       "    <tr>\n",
       "      <th>8891</th>\n",
       "      <td>Crazy as Hell</td>\n",
       "      <td>2002</td>\n",
       "      <td>113 min</td>\n",
       "      <td>Drama, Thriller</td>\n",
       "      <td>6.0</td>\n",
       "      <td>33</td>\n",
       "      <td>1000</td>\n",
       "    </tr>\n",
       "  </tbody>\n",
       "</table>\n",
       "<p>8892 rows × 7 columns</p>\n",
       "</div>"
      ],
      "text/plain": [
       "                         movie  year  runtime                      genre  \\\n",
       "0     The Shawshank Redemption  1994  142 min                      Drama   \n",
       "1              The Dark Knight  2008  152 min       Action, Crime, Drama   \n",
       "2                    Inception  2010  148 min  Action, Adventure, Sci-Fi   \n",
       "3                   Fight Club  1999  139 min                      Drama   \n",
       "4                 Pulp Fiction  1994  154 min               Crime, Drama   \n",
       "...                        ...   ...      ...                        ...   \n",
       "8887         Falling Overnight  2011   86 min             Drama, Romance   \n",
       "8888               Fremde Haut  2005   97 min                      Drama   \n",
       "8889               Bam gua nat  2008  144 min                      Drama   \n",
       "8890                Awful Nice  2013   92 min                     Comedy   \n",
       "8891             Crazy as Hell  2002  113 min            Drama, Thriller   \n",
       "\n",
       "      imdb  meta  imdb_votes  \n",
       "0      9.3    80     2360495  \n",
       "1      9.0    84     2319761  \n",
       "2      8.8    74     2083710  \n",
       "3      8.8    66     1868351  \n",
       "4      8.9    94     1839615  \n",
       "...    ...   ...         ...  \n",
       "8887   6.7    40        1002  \n",
       "8888   7.0    60        1002  \n",
       "8889   7.1    73        1001  \n",
       "8890   4.9    42        1000  \n",
       "8891   6.0    33        1000  \n",
       "\n",
       "[8892 rows x 7 columns]"
      ]
     },
     "execution_count": 8,
     "metadata": {},
     "output_type": "execute_result"
    }
   ],
   "source": [
    "imdb_df"
   ]
  },
  {
   "cell_type": "code",
   "execution_count": 9,
   "metadata": {
    "ExecuteTime": {
     "end_time": "2021-03-12T16:27:55.355623Z",
     "start_time": "2021-03-12T16:27:55.352170Z"
    }
   },
   "outputs": [],
   "source": [
    "r=5"
   ]
  },
  {
   "cell_type": "code",
   "execution_count": 10,
   "metadata": {
    "ExecuteTime": {
     "end_time": "2021-03-12T16:27:57.209070Z",
     "start_time": "2021-03-12T16:27:57.201442Z"
    }
   },
   "outputs": [],
   "source": [
    "rt_df = imdb_df.copy()\n",
    "test_df = rt_df.sample(r)"
   ]
  },
  {
   "cell_type": "code",
   "execution_count": 11,
   "metadata": {
    "ExecuteTime": {
     "end_time": "2021-03-12T16:27:59.001756Z",
     "start_time": "2021-03-12T16:27:58.997824Z"
    }
   },
   "outputs": [],
   "source": [
    "movies = imdb_df['movie']"
   ]
  },
  {
   "cell_type": "code",
   "execution_count": 12,
   "metadata": {
    "ExecuteTime": {
     "end_time": "2021-03-12T16:27:59.969266Z",
     "start_time": "2021-03-12T16:27:59.965050Z"
    }
   },
   "outputs": [],
   "source": [
    "years = imdb_df['year']"
   ]
  },
  {
   "cell_type": "code",
   "execution_count": 20,
   "metadata": {
    "ExecuteTime": {
     "end_time": "2021-03-12T16:34:08.422344Z",
     "start_time": "2021-03-12T16:34:08.418788Z"
    }
   },
   "outputs": [],
   "source": [
    "tomato = {}"
   ]
  },
  {
   "cell_type": "code",
   "execution_count": null,
   "metadata": {
    "ExecuteTime": {
     "start_time": "2021-03-12T16:58:15.864Z"
    }
   },
   "outputs": [
    {
     "name": "stdout",
     "output_type": "stream",
     "text": [
      "get_rt_movie_url\n",
      "Movie:Batman Begins,url:https://rottentomatoes.com/m/batman_begins\n",
      "get_rt_scores\n",
      "Movie:Batman Begins,critic:84,audience:94\n"
     ]
    }
   ],
   "source": [
    "for i in range(15,200):\n",
    "    a = get_rt_scores(movies[i], years[i])\n",
    "    tomato[movies[i]] = a\n",
    "    tom_df = make_db(tomato)"
   ]
  },
  {
   "cell_type": "code",
   "execution_count": 42,
   "metadata": {
    "ExecuteTime": {
     "end_time": "2021-03-12T16:56:33.034437Z",
     "start_time": "2021-03-12T16:56:33.030410Z"
    }
   },
   "outputs": [
    {
     "data": {
      "text/plain": [
       "{'The Shawshank Redemption': ['91', '98'],\n",
       " 'The Dark Knight': ['94', '94'],\n",
       " 'Inception': ['87', '91'],\n",
       " 'Fight Club': ['79', '96'],\n",
       " 'Pulp Fiction': ['92', '96'],\n",
       " 'Forrest Gump': ['71', '95'],\n",
       " 'The Matrix': ['88', '85'],\n",
       " 'The Lord of the Rings: The Fellowship of the Ring': ['91', '95'],\n",
       " 'The Lord of the Rings: The Return of the King': ['93', '86'],\n",
       " 'Interstellar': ['72', '86'],\n",
       " 'The Dark Knight Rises': ['87', '90']}"
      ]
     },
     "execution_count": 42,
     "metadata": {},
     "output_type": "execute_result"
    }
   ],
   "source": [
    "tomato"
   ]
  },
  {
   "cell_type": "code",
   "execution_count": 43,
   "metadata": {
    "ExecuteTime": {
     "end_time": "2021-03-12T16:56:41.947934Z",
     "start_time": "2021-03-12T16:56:41.942934Z"
    }
   },
   "outputs": [],
   "source": [
    "def make_db(d):\n",
    "    df = pd.DataFrame.from_dict(d, orient='index', columns=['rt_critic', 'rt_audience'])\n",
    "    df.reset_index(inplace=True)\n",
    "    df.rename(columns={'index':'movie'}, inplace=True)\n",
    "    df.to_csv('rt.csv', index=False)\n",
    "    return df"
   ]
  },
  {
   "cell_type": "code",
   "execution_count": 44,
   "metadata": {
    "ExecuteTime": {
     "end_time": "2021-03-12T16:56:46.703285Z",
     "start_time": "2021-03-12T16:56:46.693937Z"
    }
   },
   "outputs": [],
   "source": [
    "tom_df = make_db(tomato)"
   ]
  },
  {
   "cell_type": "code",
   "execution_count": 45,
   "metadata": {
    "ExecuteTime": {
     "end_time": "2021-03-12T16:56:52.959457Z",
     "start_time": "2021-03-12T16:56:52.949259Z"
    }
   },
   "outputs": [
    {
     "data": {
      "text/html": [
       "<div>\n",
       "<style scoped>\n",
       "    .dataframe tbody tr th:only-of-type {\n",
       "        vertical-align: middle;\n",
       "    }\n",
       "\n",
       "    .dataframe tbody tr th {\n",
       "        vertical-align: top;\n",
       "    }\n",
       "\n",
       "    .dataframe thead th {\n",
       "        text-align: right;\n",
       "    }\n",
       "</style>\n",
       "<table border=\"1\" class=\"dataframe\">\n",
       "  <thead>\n",
       "    <tr style=\"text-align: right;\">\n",
       "      <th></th>\n",
       "      <th>movie</th>\n",
       "      <th>rt_critic</th>\n",
       "      <th>rt_audience</th>\n",
       "    </tr>\n",
       "  </thead>\n",
       "  <tbody>\n",
       "    <tr>\n",
       "      <th>0</th>\n",
       "      <td>The Shawshank Redemption</td>\n",
       "      <td>91</td>\n",
       "      <td>98</td>\n",
       "    </tr>\n",
       "    <tr>\n",
       "      <th>1</th>\n",
       "      <td>The Dark Knight</td>\n",
       "      <td>94</td>\n",
       "      <td>94</td>\n",
       "    </tr>\n",
       "    <tr>\n",
       "      <th>2</th>\n",
       "      <td>Inception</td>\n",
       "      <td>87</td>\n",
       "      <td>91</td>\n",
       "    </tr>\n",
       "    <tr>\n",
       "      <th>3</th>\n",
       "      <td>Fight Club</td>\n",
       "      <td>79</td>\n",
       "      <td>96</td>\n",
       "    </tr>\n",
       "    <tr>\n",
       "      <th>4</th>\n",
       "      <td>Pulp Fiction</td>\n",
       "      <td>92</td>\n",
       "      <td>96</td>\n",
       "    </tr>\n",
       "    <tr>\n",
       "      <th>5</th>\n",
       "      <td>Forrest Gump</td>\n",
       "      <td>71</td>\n",
       "      <td>95</td>\n",
       "    </tr>\n",
       "    <tr>\n",
       "      <th>6</th>\n",
       "      <td>The Matrix</td>\n",
       "      <td>88</td>\n",
       "      <td>85</td>\n",
       "    </tr>\n",
       "    <tr>\n",
       "      <th>7</th>\n",
       "      <td>The Lord of the Rings: The Fellowship of the Ring</td>\n",
       "      <td>91</td>\n",
       "      <td>95</td>\n",
       "    </tr>\n",
       "    <tr>\n",
       "      <th>8</th>\n",
       "      <td>The Lord of the Rings: The Return of the King</td>\n",
       "      <td>93</td>\n",
       "      <td>86</td>\n",
       "    </tr>\n",
       "    <tr>\n",
       "      <th>9</th>\n",
       "      <td>Interstellar</td>\n",
       "      <td>72</td>\n",
       "      <td>86</td>\n",
       "    </tr>\n",
       "    <tr>\n",
       "      <th>10</th>\n",
       "      <td>The Dark Knight Rises</td>\n",
       "      <td>87</td>\n",
       "      <td>90</td>\n",
       "    </tr>\n",
       "  </tbody>\n",
       "</table>\n",
       "</div>"
      ],
      "text/plain": [
       "                                                movie rt_critic rt_audience\n",
       "0                            The Shawshank Redemption        91          98\n",
       "1                                     The Dark Knight        94          94\n",
       "2                                           Inception        87          91\n",
       "3                                          Fight Club        79          96\n",
       "4                                        Pulp Fiction        92          96\n",
       "5                                        Forrest Gump        71          95\n",
       "6                                          The Matrix        88          85\n",
       "7   The Lord of the Rings: The Fellowship of the Ring        91          95\n",
       "8       The Lord of the Rings: The Return of the King        93          86\n",
       "9                                        Interstellar        72          86\n",
       "10                              The Dark Knight Rises        87          90"
      ]
     },
     "execution_count": 45,
     "metadata": {},
     "output_type": "execute_result"
    }
   ],
   "source": [
    "tom_df"
   ]
  },
  {
   "cell_type": "code",
   "execution_count": null,
   "metadata": {},
   "outputs": [],
   "source": [
    "t=1527"
   ]
  },
  {
   "cell_type": "code",
   "execution_count": null,
   "metadata": {},
   "outputs": [],
   "source": [
    "m,y = movies[t], str(years[t])"
   ]
  },
  {
   "cell_type": "code",
   "execution_count": null,
   "metadata": {},
   "outputs": [],
   "source": [
    "movies[t]"
   ]
  },
  {
   "cell_type": "code",
   "execution_count": null,
   "metadata": {},
   "outputs": [],
   "source": [
    "print(\"{},{}\".format(m,y))"
   ]
  },
  {
   "cell_type": "code",
   "execution_count": null,
   "metadata": {},
   "outputs": [],
   "source": [
    "url = get_rt_movie_url(m,y)"
   ]
  },
  {
   "cell_type": "code",
   "execution_count": null,
   "metadata": {},
   "outputs": [],
   "source": [
    "get_rt_scores(m, y)"
   ]
  }
 ],
 "metadata": {
  "kernelspec": {
   "display_name": "Python 3",
   "language": "python",
   "name": "python3"
  },
  "language_info": {
   "codemirror_mode": {
    "name": "ipython",
    "version": 3
   },
   "file_extension": ".py",
   "mimetype": "text/x-python",
   "name": "python",
   "nbconvert_exporter": "python",
   "pygments_lexer": "ipython3",
   "version": "3.8.3"
  },
  "varInspector": {
   "cols": {
    "lenName": 16,
    "lenType": 16,
    "lenVar": 40
   },
   "kernels_config": {
    "python": {
     "delete_cmd_postfix": "",
     "delete_cmd_prefix": "del ",
     "library": "var_list.py",
     "varRefreshCmd": "print(var_dic_list())"
    },
    "r": {
     "delete_cmd_postfix": ") ",
     "delete_cmd_prefix": "rm(",
     "library": "var_list.r",
     "varRefreshCmd": "cat(var_dic_list()) "
    }
   },
   "position": {
    "height": "249px",
    "left": "1909px",
    "right": "20px",
    "top": "136px",
    "width": "360px"
   },
   "types_to_exclude": [
    "module",
    "function",
    "builtin_function_or_method",
    "instance",
    "_Feature"
   ],
   "window_display": true
  }
 },
 "nbformat": 4,
 "nbformat_minor": 4
}

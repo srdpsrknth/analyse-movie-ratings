{
 "cells": [
  {
   "cell_type": "code",
   "execution_count": 1,
   "metadata": {},
   "outputs": [],
   "source": [
    "from requests import get\n",
    "from bs4 import BeautifulSoup\n",
    "import pandas as pd\n",
    "import numpy as np\n",
    "from time import sleep\n",
    "from random import randint"
   ]
  },
  {
   "cell_type": "code",
   "execution_count": 2,
   "metadata": {},
   "outputs": [],
   "source": [
    "url = r\"https://www.imdb.com/search/title/?title_type=feature&release_date=1990-01-01,&num_votes=1000,&languages=en&sort=num_votes,desc&count=250\"\n",
    "response = get(url)"
   ]
  },
  {
   "cell_type": "code",
   "execution_count": 3,
   "metadata": {},
   "outputs": [],
   "source": [
    "html_soup = BeautifulSoup(response.text, 'html.parser')"
   ]
  },
  {
   "cell_type": "code",
   "execution_count": 4,
   "metadata": {},
   "outputs": [],
   "source": [
    "movie_container = html_soup.find_all('div', class_='lister-item mode-advanced')"
   ]
  },
  {
   "cell_type": "code",
   "execution_count": 5,
   "metadata": {},
   "outputs": [],
   "source": [
    "movie = movie_container[0]\n",
    "title = movie.h3.a.text\n",
    "year = movie.h3.find('span', class_='lister-item-year').text"
   ]
  },
  {
   "cell_type": "code",
   "execution_count": 7,
   "metadata": {},
   "outputs": [
    {
     "data": {
      "text/plain": [
       "'The Shawshank Redemption'"
      ]
     },
     "execution_count": 7,
     "metadata": {},
     "output_type": "execute_result"
    }
   ],
   "source": [
    "title"
   ]
  },
  {
   "cell_type": "code",
   "execution_count": 30,
   "metadata": {},
   "outputs": [
    {
     "data": {
      "text/plain": [
       "'110 min'"
      ]
     },
     "execution_count": 30,
     "metadata": {},
     "output_type": "execute_result"
    }
   ],
   "source": [
    "runtime = movie.find('span', class_='runtime').text"
   ]
  },
  {
   "cell_type": "code",
   "execution_count": 28,
   "metadata": {},
   "outputs": [
    {
     "data": {
      "text/plain": [
       "'Comedy'"
      ]
     },
     "execution_count": 28,
     "metadata": {},
     "output_type": "execute_result"
    }
   ],
   "source": [
    "genre = movie.find('span', class_='genre').text\n",
    "genre = genre.strip()"
   ]
  },
  {
   "cell_type": "code",
   "execution_count": 22,
   "metadata": {},
   "outputs": [
    {
     "data": {
      "text/plain": [
       "'5.5'"
      ]
     },
     "execution_count": 22,
     "metadata": {},
     "output_type": "execute_result"
    }
   ],
   "source": [
    "imdb_rating = float(movie.find('div', class_='ratings-bar').find('div', class_='ratings-imdb-rating').strong.text)"
   ]
  },
  {
   "cell_type": "code",
   "execution_count": 24,
   "metadata": {},
   "outputs": [],
   "source": [
    "meta_rating = int(movie.find('span', class_='metascore').text)"
   ]
  },
  {
   "cell_type": "code",
   "execution_count": 49,
   "metadata": {},
   "outputs": [],
   "source": [
    "num_imdb_votes = movie.find('span', {\"name\":\"nv\"})\n",
    "num_imdb_votes = int(num_imdb_votes[\"data-value\"])"
   ]
  },
  {
   "cell_type": "code",
   "execution_count": 53,
   "metadata": {},
   "outputs": [],
   "source": [
    "titles = []\n",
    "release_year = []\n",
    "runtimes = []\n",
    "genres = []\n",
    "imdb_ratings = []\n",
    "meta_ratings = []\n",
    "imdb_votes = []"
   ]
  },
  {
   "cell_type": "code",
   "execution_count": 54,
   "metadata": {},
   "outputs": [],
   "source": [
    "for movie in movie_container:\n",
    "    if movie.find('div', class_='ratings-metascore') is not None:\n",
    "        title = movie.h3.a.text\n",
    "        titles.append(title)\n",
    "        \n",
    "        year = movie.h3.find('span', class_='lister-item-year').text\n",
    "        release_year.append(year)\n",
    "        \n",
    "        runtime = movie.find('span', class_='runtime').text\n",
    "        runtimes.append(runtime)\n",
    "        \n",
    "        genre = movie.find('span', class_='genre').text\n",
    "        genre = genre.strip()\n",
    "        genres.append(genre)\n",
    "        \n",
    "        imdb_rating = float(movie.find('div', class_='ratings-bar').find('div', class_='ratings-imdb-rating').strong.text)\n",
    "        imdb_ratings.append(imdb_rating)\n",
    "        \n",
    "        meta_rating = int(movie.find('span', class_='metascore').text)\n",
    "        meta_ratings.append(meta_rating)\n",
    "        \n",
    "        num_imdb_votes = movie.find('span', {\"name\":\"nv\"})\n",
    "        num_imdb_votes = int(num_imdb_votes[\"data-value\"])\n",
    "        imdb_votes.append(num_imdb_votes)"
   ]
  },
  {
   "cell_type": "code",
   "execution_count": 55,
   "metadata": {},
   "outputs": [
    {
     "data": {
      "text/html": [
       "<div>\n",
       "<style scoped>\n",
       "    .dataframe tbody tr th:only-of-type {\n",
       "        vertical-align: middle;\n",
       "    }\n",
       "\n",
       "    .dataframe tbody tr th {\n",
       "        vertical-align: top;\n",
       "    }\n",
       "\n",
       "    .dataframe thead th {\n",
       "        text-align: right;\n",
       "    }\n",
       "</style>\n",
       "<table border=\"1\" class=\"dataframe\">\n",
       "  <thead>\n",
       "    <tr style=\"text-align: right;\">\n",
       "      <th></th>\n",
       "      <th>movie</th>\n",
       "      <th>year</th>\n",
       "      <th>runtime</th>\n",
       "      <th>genre</th>\n",
       "      <th>IMDB</th>\n",
       "      <th>Metacritic</th>\n",
       "      <th>IMDB_votes</th>\n",
       "    </tr>\n",
       "  </thead>\n",
       "  <tbody>\n",
       "    <tr>\n",
       "      <th>0</th>\n",
       "      <td>The Shawshank Redemption</td>\n",
       "      <td>(1994)</td>\n",
       "      <td>142 min</td>\n",
       "      <td>Drama</td>\n",
       "      <td>9.3</td>\n",
       "      <td>80</td>\n",
       "      <td>2360057</td>\n",
       "    </tr>\n",
       "    <tr>\n",
       "      <th>1</th>\n",
       "      <td>The Dark Knight</td>\n",
       "      <td>(2008)</td>\n",
       "      <td>152 min</td>\n",
       "      <td>Action, Crime, Drama</td>\n",
       "      <td>9.0</td>\n",
       "      <td>84</td>\n",
       "      <td>2319322</td>\n",
       "    </tr>\n",
       "    <tr>\n",
       "      <th>2</th>\n",
       "      <td>Inception</td>\n",
       "      <td>(2010)</td>\n",
       "      <td>148 min</td>\n",
       "      <td>Action, Adventure, Sci-Fi</td>\n",
       "      <td>8.8</td>\n",
       "      <td>74</td>\n",
       "      <td>2083295</td>\n",
       "    </tr>\n",
       "    <tr>\n",
       "      <th>3</th>\n",
       "      <td>Fight Club</td>\n",
       "      <td>(1999)</td>\n",
       "      <td>139 min</td>\n",
       "      <td>Drama</td>\n",
       "      <td>8.8</td>\n",
       "      <td>66</td>\n",
       "      <td>1868008</td>\n",
       "    </tr>\n",
       "    <tr>\n",
       "      <th>4</th>\n",
       "      <td>Pulp Fiction</td>\n",
       "      <td>(1994)</td>\n",
       "      <td>154 min</td>\n",
       "      <td>Crime, Drama</td>\n",
       "      <td>8.9</td>\n",
       "      <td>94</td>\n",
       "      <td>1839292</td>\n",
       "    </tr>\n",
       "    <tr>\n",
       "      <th>...</th>\n",
       "      <td>...</td>\n",
       "      <td>...</td>\n",
       "      <td>...</td>\n",
       "      <td>...</td>\n",
       "      <td>...</td>\n",
       "      <td>...</td>\n",
       "      <td>...</td>\n",
       "    </tr>\n",
       "    <tr>\n",
       "      <th>245</th>\n",
       "      <td>American Sniper</td>\n",
       "      <td>(2014)</td>\n",
       "      <td>133 min</td>\n",
       "      <td>Action, Biography, Drama</td>\n",
       "      <td>7.3</td>\n",
       "      <td>72</td>\n",
       "      <td>442219</td>\n",
       "    </tr>\n",
       "    <tr>\n",
       "      <th>246</th>\n",
       "      <td>Little Miss Sunshine</td>\n",
       "      <td>(2006)</td>\n",
       "      <td>101 min</td>\n",
       "      <td>Comedy, Drama</td>\n",
       "      <td>7.8</td>\n",
       "      <td>80</td>\n",
       "      <td>441991</td>\n",
       "    </tr>\n",
       "    <tr>\n",
       "      <th>247</th>\n",
       "      <td>Hacksaw Ridge</td>\n",
       "      <td>(2016)</td>\n",
       "      <td>139 min</td>\n",
       "      <td>Biography, Drama, History</td>\n",
       "      <td>8.1</td>\n",
       "      <td>71</td>\n",
       "      <td>440892</td>\n",
       "    </tr>\n",
       "    <tr>\n",
       "      <th>248</th>\n",
       "      <td>1917</td>\n",
       "      <td>(2019)</td>\n",
       "      <td>119 min</td>\n",
       "      <td>Drama, Thriller, War</td>\n",
       "      <td>8.3</td>\n",
       "      <td>78</td>\n",
       "      <td>439834</td>\n",
       "    </tr>\n",
       "    <tr>\n",
       "      <th>249</th>\n",
       "      <td>Three Billboards Outside Ebbing, Missouri</td>\n",
       "      <td>(2017)</td>\n",
       "      <td>115 min</td>\n",
       "      <td>Comedy, Crime, Drama</td>\n",
       "      <td>8.1</td>\n",
       "      <td>88</td>\n",
       "      <td>438821</td>\n",
       "    </tr>\n",
       "  </tbody>\n",
       "</table>\n",
       "<p>250 rows × 7 columns</p>\n",
       "</div>"
      ],
      "text/plain": [
       "                                         movie    year  runtime  \\\n",
       "0                     The Shawshank Redemption  (1994)  142 min   \n",
       "1                              The Dark Knight  (2008)  152 min   \n",
       "2                                    Inception  (2010)  148 min   \n",
       "3                                   Fight Club  (1999)  139 min   \n",
       "4                                 Pulp Fiction  (1994)  154 min   \n",
       "..                                         ...     ...      ...   \n",
       "245                            American Sniper  (2014)  133 min   \n",
       "246                       Little Miss Sunshine  (2006)  101 min   \n",
       "247                              Hacksaw Ridge  (2016)  139 min   \n",
       "248                                       1917  (2019)  119 min   \n",
       "249  Three Billboards Outside Ebbing, Missouri  (2017)  115 min   \n",
       "\n",
       "                         genre  IMDB  Metacritic  IMDB_votes  \n",
       "0                        Drama   9.3          80     2360057  \n",
       "1         Action, Crime, Drama   9.0          84     2319322  \n",
       "2    Action, Adventure, Sci-Fi   8.8          74     2083295  \n",
       "3                        Drama   8.8          66     1868008  \n",
       "4                 Crime, Drama   8.9          94     1839292  \n",
       "..                         ...   ...         ...         ...  \n",
       "245   Action, Biography, Drama   7.3          72      442219  \n",
       "246              Comedy, Drama   7.8          80      441991  \n",
       "247  Biography, Drama, History   8.1          71      440892  \n",
       "248       Drama, Thriller, War   8.3          78      439834  \n",
       "249       Comedy, Crime, Drama   8.1          88      438821  \n",
       "\n",
       "[250 rows x 7 columns]"
      ]
     },
     "execution_count": 55,
     "metadata": {},
     "output_type": "execute_result"
    }
   ],
   "source": [
    "movies_df = pd.DataFrame({'movie':titles,\n",
    "                          'year':release_year,\n",
    "                          'runtime':runtimes,\n",
    "                          'genre':genres,\n",
    "                          'IMDB':imdb_ratings,\n",
    "                          'Metacritic':meta_ratings,\n",
    "                          'IMDB_votes':imdb_votes\n",
    "                         })\n",
    "movies_df"
   ]
  },
  {
   "cell_type": "code",
   "execution_count": 75,
   "metadata": {},
   "outputs": [],
   "source": [
    "next_path = html_soup.find('a', class_=\"lister-page-next next-page\")\n",
    "if next_path is None:\n",
    "    print(\"this is the end man!\")\n",
    "else:\n",
    "    next_path = next_path['href']"
   ]
  },
  {
   "cell_type": "code",
   "execution_count": 76,
   "metadata": {},
   "outputs": [
    {
     "data": {
      "text/plain": [
       "'https://www.imdb.com//search/title/?title_type=feature&release_date=1990-01-01,&languages=en&sort=num_votes,desc&count=250&start=251'"
      ]
     },
     "execution_count": 76,
     "metadata": {},
     "output_type": "execute_result"
    }
   ],
   "source": [
    "next_url = r\"https://www.imdb.com/\" + next_path\n",
    "next_url"
   ]
  },
  {
   "cell_type": "code",
   "execution_count": null,
   "metadata": {},
   "outputs": [],
   "source": []
  }
 ],
 "metadata": {
  "kernelspec": {
   "display_name": "Python 3",
   "language": "python",
   "name": "python3"
  },
  "language_info": {
   "codemirror_mode": {
    "name": "ipython",
    "version": 3
   },
   "file_extension": ".py",
   "mimetype": "text/x-python",
   "name": "python",
   "nbconvert_exporter": "python",
   "pygments_lexer": "ipython3",
   "version": "3.8.3"
  }
 },
 "nbformat": 4,
 "nbformat_minor": 4
}

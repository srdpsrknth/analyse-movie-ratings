{
 "cells": [
  {
   "cell_type": "code",
   "execution_count": 1,
   "id": "66455ebc",
   "metadata": {
    "ExecuteTime": {
     "end_time": "2021-09-13T07:06:33.264696Z",
     "start_time": "2021-09-13T07:06:32.451749Z"
    }
   },
   "outputs": [],
   "source": [
    "import pandas as pd \n",
    "import numpy as np\n",
    "import matplotlib.pyplot as plt"
   ]
  },
  {
   "cell_type": "code",
   "execution_count": 59,
   "id": "cb7b5ebd",
   "metadata": {
    "ExecuteTime": {
     "end_time": "2021-09-13T20:39:45.875640Z",
     "start_time": "2021-09-13T20:39:45.859970Z"
    }
   },
   "outputs": [],
   "source": [
    "%matplotlib inline"
   ]
  },
  {
   "cell_type": "code",
   "execution_count": 54,
   "id": "f0ae3549",
   "metadata": {
    "ExecuteTime": {
     "end_time": "2021-09-13T20:36:06.543479Z",
     "start_time": "2021-09-13T20:36:06.522000Z"
    }
   },
   "outputs": [],
   "source": [
    "moviedata = pd.read_csv('data/movies_data.csv')"
   ]
  },
  {
   "cell_type": "code",
   "execution_count": 55,
   "id": "926eb0ce",
   "metadata": {
    "ExecuteTime": {
     "end_time": "2021-09-13T20:36:07.001710Z",
     "start_time": "2021-09-13T20:36:06.986716Z"
    }
   },
   "outputs": [
    {
     "name": "stdout",
     "output_type": "stream",
     "text": [
      "<class 'pandas.core.frame.DataFrame'>\n",
      "RangeIndex: 8096 entries, 0 to 8095\n",
      "Data columns (total 9 columns):\n",
      " #   Column       Non-Null Count  Dtype  \n",
      "---  ------       --------------  -----  \n",
      " 0   movie        8096 non-null   object \n",
      " 1   rt_critic    7805 non-null   float64\n",
      " 2   rt_audience  7845 non-null   float64\n",
      " 3   year         8096 non-null   int64  \n",
      " 4   runtime      8096 non-null   object \n",
      " 5   genre        8096 non-null   object \n",
      " 6   imdb         8096 non-null   float64\n",
      " 7   meta         8096 non-null   int64  \n",
      " 8   imdb_votes   8096 non-null   int64  \n",
      "dtypes: float64(3), int64(3), object(3)\n",
      "memory usage: 569.4+ KB\n"
     ]
    }
   ],
   "source": [
    "moviedata.info()"
   ]
  },
  {
   "cell_type": "code",
   "execution_count": 56,
   "id": "db336efa",
   "metadata": {
    "ExecuteTime": {
     "end_time": "2021-09-13T20:36:08.665167Z",
     "start_time": "2021-09-13T20:36:08.656999Z"
    }
   },
   "outputs": [],
   "source": [
    "mov_clean = moviedata.dropna(subset=['rt_critic', 'rt_audience'])"
   ]
  },
  {
   "cell_type": "code",
   "execution_count": 57,
   "id": "64070c05",
   "metadata": {
    "ExecuteTime": {
     "end_time": "2021-09-13T20:36:09.315490Z",
     "start_time": "2021-09-13T20:36:09.300917Z"
    }
   },
   "outputs": [
    {
     "name": "stdout",
     "output_type": "stream",
     "text": [
      "<class 'pandas.core.frame.DataFrame'>\n",
      "Int64Index: 7772 entries, 0 to 8095\n",
      "Data columns (total 9 columns):\n",
      " #   Column       Non-Null Count  Dtype  \n",
      "---  ------       --------------  -----  \n",
      " 0   movie        7772 non-null   object \n",
      " 1   rt_critic    7772 non-null   float64\n",
      " 2   rt_audience  7772 non-null   float64\n",
      " 3   year         7772 non-null   int64  \n",
      " 4   runtime      7772 non-null   object \n",
      " 5   genre        7772 non-null   object \n",
      " 6   imdb         7772 non-null   float64\n",
      " 7   meta         7772 non-null   int64  \n",
      " 8   imdb_votes   7772 non-null   int64  \n",
      "dtypes: float64(3), int64(3), object(3)\n",
      "memory usage: 607.2+ KB\n"
     ]
    }
   ],
   "source": [
    "mov_clean.info()"
   ]
  },
  {
   "cell_type": "code",
   "execution_count": 58,
   "id": "a08a2e9f",
   "metadata": {
    "ExecuteTime": {
     "end_time": "2021-09-13T20:36:10.157797Z",
     "start_time": "2021-09-13T20:36:10.138828Z"
    }
   },
   "outputs": [
    {
     "data": {
      "text/html": [
       "<div>\n",
       "<style scoped>\n",
       "    .dataframe tbody tr th:only-of-type {\n",
       "        vertical-align: middle;\n",
       "    }\n",
       "\n",
       "    .dataframe tbody tr th {\n",
       "        vertical-align: top;\n",
       "    }\n",
       "\n",
       "    .dataframe thead th {\n",
       "        text-align: right;\n",
       "    }\n",
       "</style>\n",
       "<table border=\"1\" class=\"dataframe\">\n",
       "  <thead>\n",
       "    <tr style=\"text-align: right;\">\n",
       "      <th></th>\n",
       "      <th>movie</th>\n",
       "      <th>rt_critic</th>\n",
       "      <th>rt_audience</th>\n",
       "      <th>year</th>\n",
       "      <th>runtime</th>\n",
       "      <th>genre</th>\n",
       "      <th>imdb</th>\n",
       "      <th>meta</th>\n",
       "      <th>imdb_votes</th>\n",
       "    </tr>\n",
       "  </thead>\n",
       "  <tbody>\n",
       "    <tr>\n",
       "      <th>0</th>\n",
       "      <td>The Shawshank Redemption</td>\n",
       "      <td>91.0</td>\n",
       "      <td>98.0</td>\n",
       "      <td>1994</td>\n",
       "      <td>142 min</td>\n",
       "      <td>Drama</td>\n",
       "      <td>9.3</td>\n",
       "      <td>80</td>\n",
       "      <td>2360495</td>\n",
       "    </tr>\n",
       "    <tr>\n",
       "      <th>1</th>\n",
       "      <td>The Dark Knight</td>\n",
       "      <td>94.0</td>\n",
       "      <td>94.0</td>\n",
       "      <td>2008</td>\n",
       "      <td>152 min</td>\n",
       "      <td>Action, Crime, Drama</td>\n",
       "      <td>9.0</td>\n",
       "      <td>84</td>\n",
       "      <td>2319761</td>\n",
       "    </tr>\n",
       "    <tr>\n",
       "      <th>2</th>\n",
       "      <td>Inception</td>\n",
       "      <td>87.0</td>\n",
       "      <td>91.0</td>\n",
       "      <td>2010</td>\n",
       "      <td>148 min</td>\n",
       "      <td>Action, Adventure, Sci-Fi</td>\n",
       "      <td>8.8</td>\n",
       "      <td>74</td>\n",
       "      <td>2083710</td>\n",
       "    </tr>\n",
       "    <tr>\n",
       "      <th>3</th>\n",
       "      <td>Fight Club</td>\n",
       "      <td>79.0</td>\n",
       "      <td>96.0</td>\n",
       "      <td>1999</td>\n",
       "      <td>139 min</td>\n",
       "      <td>Drama</td>\n",
       "      <td>8.8</td>\n",
       "      <td>66</td>\n",
       "      <td>1868351</td>\n",
       "    </tr>\n",
       "    <tr>\n",
       "      <th>4</th>\n",
       "      <td>Pulp Fiction</td>\n",
       "      <td>92.0</td>\n",
       "      <td>96.0</td>\n",
       "      <td>1994</td>\n",
       "      <td>154 min</td>\n",
       "      <td>Crime, Drama</td>\n",
       "      <td>8.9</td>\n",
       "      <td>94</td>\n",
       "      <td>1839615</td>\n",
       "    </tr>\n",
       "    <tr>\n",
       "      <th>5</th>\n",
       "      <td>Forrest Gump</td>\n",
       "      <td>71.0</td>\n",
       "      <td>95.0</td>\n",
       "      <td>1994</td>\n",
       "      <td>142 min</td>\n",
       "      <td>Drama, Romance</td>\n",
       "      <td>8.8</td>\n",
       "      <td>82</td>\n",
       "      <td>1824422</td>\n",
       "    </tr>\n",
       "    <tr>\n",
       "      <th>6</th>\n",
       "      <td>The Matrix</td>\n",
       "      <td>88.0</td>\n",
       "      <td>85.0</td>\n",
       "      <td>1999</td>\n",
       "      <td>136 min</td>\n",
       "      <td>Action, Sci-Fi</td>\n",
       "      <td>8.7</td>\n",
       "      <td>73</td>\n",
       "      <td>1688772</td>\n",
       "    </tr>\n",
       "    <tr>\n",
       "      <th>7</th>\n",
       "      <td>The Lord of the Rings: The Fellowship of the Ring</td>\n",
       "      <td>91.0</td>\n",
       "      <td>95.0</td>\n",
       "      <td>2001</td>\n",
       "      <td>178 min</td>\n",
       "      <td>Action, Adventure, Drama</td>\n",
       "      <td>8.8</td>\n",
       "      <td>92</td>\n",
       "      <td>1672907</td>\n",
       "    </tr>\n",
       "    <tr>\n",
       "      <th>8</th>\n",
       "      <td>The Lord of the Rings: The Return of the King</td>\n",
       "      <td>93.0</td>\n",
       "      <td>86.0</td>\n",
       "      <td>2003</td>\n",
       "      <td>201 min</td>\n",
       "      <td>Action, Adventure, Drama</td>\n",
       "      <td>8.9</td>\n",
       "      <td>94</td>\n",
       "      <td>1653351</td>\n",
       "    </tr>\n",
       "    <tr>\n",
       "      <th>9</th>\n",
       "      <td>Interstellar</td>\n",
       "      <td>72.0</td>\n",
       "      <td>86.0</td>\n",
       "      <td>2014</td>\n",
       "      <td>169 min</td>\n",
       "      <td>Adventure, Drama, Sci-Fi</td>\n",
       "      <td>8.6</td>\n",
       "      <td>74</td>\n",
       "      <td>1528320</td>\n",
       "    </tr>\n",
       "    <tr>\n",
       "      <th>10</th>\n",
       "      <td>The Dark Knight Rises</td>\n",
       "      <td>87.0</td>\n",
       "      <td>90.0</td>\n",
       "      <td>2012</td>\n",
       "      <td>164 min</td>\n",
       "      <td>Action, Adventure</td>\n",
       "      <td>8.4</td>\n",
       "      <td>78</td>\n",
       "      <td>1525646</td>\n",
       "    </tr>\n",
       "    <tr>\n",
       "      <th>11</th>\n",
       "      <td>The Lord of the Rings: The Two Towers</td>\n",
       "      <td>95.0</td>\n",
       "      <td>95.0</td>\n",
       "      <td>2002</td>\n",
       "      <td>179 min</td>\n",
       "      <td>Action, Adventure, Drama</td>\n",
       "      <td>8.7</td>\n",
       "      <td>87</td>\n",
       "      <td>1495193</td>\n",
       "    </tr>\n",
       "    <tr>\n",
       "      <th>12</th>\n",
       "      <td>Seven</td>\n",
       "      <td>83.0</td>\n",
       "      <td>95.0</td>\n",
       "      <td>1995</td>\n",
       "      <td>127 min</td>\n",
       "      <td>Crime, Drama, Mystery</td>\n",
       "      <td>8.6</td>\n",
       "      <td>65</td>\n",
       "      <td>1457172</td>\n",
       "    </tr>\n",
       "    <tr>\n",
       "      <th>13</th>\n",
       "      <td>Django Unchained</td>\n",
       "      <td>87.0</td>\n",
       "      <td>91.0</td>\n",
       "      <td>2012</td>\n",
       "      <td>165 min</td>\n",
       "      <td>Drama, Western</td>\n",
       "      <td>8.4</td>\n",
       "      <td>81</td>\n",
       "      <td>1369223</td>\n",
       "    </tr>\n",
       "    <tr>\n",
       "      <th>14</th>\n",
       "      <td>Gladiator</td>\n",
       "      <td>77.0</td>\n",
       "      <td>87.0</td>\n",
       "      <td>2000</td>\n",
       "      <td>155 min</td>\n",
       "      <td>Action, Adventure, Drama</td>\n",
       "      <td>8.5</td>\n",
       "      <td>67</td>\n",
       "      <td>1350359</td>\n",
       "    </tr>\n",
       "    <tr>\n",
       "      <th>15</th>\n",
       "      <td>Batman Begins</td>\n",
       "      <td>84.0</td>\n",
       "      <td>94.0</td>\n",
       "      <td>2005</td>\n",
       "      <td>140 min</td>\n",
       "      <td>Action, Adventure</td>\n",
       "      <td>8.2</td>\n",
       "      <td>70</td>\n",
       "      <td>1316216</td>\n",
       "    </tr>\n",
       "    <tr>\n",
       "      <th>16</th>\n",
       "      <td>The Silence of the Lambs</td>\n",
       "      <td>96.0</td>\n",
       "      <td>95.0</td>\n",
       "      <td>1991</td>\n",
       "      <td>118 min</td>\n",
       "      <td>Crime, Drama, Thriller</td>\n",
       "      <td>8.6</td>\n",
       "      <td>85</td>\n",
       "      <td>1281537</td>\n",
       "    </tr>\n",
       "    <tr>\n",
       "      <th>17</th>\n",
       "      <td>Inglourious Basterds</td>\n",
       "      <td>89.0</td>\n",
       "      <td>88.0</td>\n",
       "      <td>2009</td>\n",
       "      <td>153 min</td>\n",
       "      <td>Adventure, Drama, War</td>\n",
       "      <td>8.3</td>\n",
       "      <td>69</td>\n",
       "      <td>1278853</td>\n",
       "    </tr>\n",
       "    <tr>\n",
       "      <th>18</th>\n",
       "      <td>The Avengers</td>\n",
       "      <td>91.0</td>\n",
       "      <td>91.0</td>\n",
       "      <td>2012</td>\n",
       "      <td>143 min</td>\n",
       "      <td>Action, Adventure, Sci-Fi</td>\n",
       "      <td>8.0</td>\n",
       "      <td>69</td>\n",
       "      <td>1267516</td>\n",
       "    </tr>\n",
       "    <tr>\n",
       "      <th>19</th>\n",
       "      <td>The Avengers</td>\n",
       "      <td>91.0</td>\n",
       "      <td>91.0</td>\n",
       "      <td>1998</td>\n",
       "      <td>89 min</td>\n",
       "      <td>Action, Adventure, Sci-Fi</td>\n",
       "      <td>3.8</td>\n",
       "      <td>12</td>\n",
       "      <td>41112</td>\n",
       "    </tr>\n",
       "    <tr>\n",
       "      <th>20</th>\n",
       "      <td>The Avengers</td>\n",
       "      <td>5.0</td>\n",
       "      <td>15.0</td>\n",
       "      <td>2012</td>\n",
       "      <td>143 min</td>\n",
       "      <td>Action, Adventure, Sci-Fi</td>\n",
       "      <td>8.0</td>\n",
       "      <td>69</td>\n",
       "      <td>1267516</td>\n",
       "    </tr>\n",
       "    <tr>\n",
       "      <th>21</th>\n",
       "      <td>The Avengers</td>\n",
       "      <td>5.0</td>\n",
       "      <td>15.0</td>\n",
       "      <td>1998</td>\n",
       "      <td>89 min</td>\n",
       "      <td>Action, Adventure, Sci-Fi</td>\n",
       "      <td>3.8</td>\n",
       "      <td>12</td>\n",
       "      <td>41112</td>\n",
       "    </tr>\n",
       "    <tr>\n",
       "      <th>22</th>\n",
       "      <td>Saving Private Ryan</td>\n",
       "      <td>93.0</td>\n",
       "      <td>95.0</td>\n",
       "      <td>1998</td>\n",
       "      <td>169 min</td>\n",
       "      <td>Drama, War</td>\n",
       "      <td>8.6</td>\n",
       "      <td>91</td>\n",
       "      <td>1244660</td>\n",
       "    </tr>\n",
       "    <tr>\n",
       "      <th>23</th>\n",
       "      <td>Schindler's List</td>\n",
       "      <td>97.0</td>\n",
       "      <td>97.0</td>\n",
       "      <td>1993</td>\n",
       "      <td>195 min</td>\n",
       "      <td>Biography, Drama, History</td>\n",
       "      <td>8.9</td>\n",
       "      <td>94</td>\n",
       "      <td>1221469</td>\n",
       "    </tr>\n",
       "    <tr>\n",
       "      <th>24</th>\n",
       "      <td>The Wolf of Wall Street</td>\n",
       "      <td>79.0</td>\n",
       "      <td>83.0</td>\n",
       "      <td>2013</td>\n",
       "      <td>180 min</td>\n",
       "      <td>Biography, Crime, Drama</td>\n",
       "      <td>8.2</td>\n",
       "      <td>75</td>\n",
       "      <td>1202039</td>\n",
       "    </tr>\n",
       "    <tr>\n",
       "      <th>25</th>\n",
       "      <td>The Prestige</td>\n",
       "      <td>76.0</td>\n",
       "      <td>92.0</td>\n",
       "      <td>2006</td>\n",
       "      <td>130 min</td>\n",
       "      <td>Drama, Mystery, Sci-Fi</td>\n",
       "      <td>8.5</td>\n",
       "      <td>66</td>\n",
       "      <td>1199425</td>\n",
       "    </tr>\n",
       "    <tr>\n",
       "      <th>26</th>\n",
       "      <td>The Departed</td>\n",
       "      <td>90.0</td>\n",
       "      <td>94.0</td>\n",
       "      <td>2006</td>\n",
       "      <td>151 min</td>\n",
       "      <td>Crime, Drama, Thriller</td>\n",
       "      <td>8.5</td>\n",
       "      <td>85</td>\n",
       "      <td>1198539</td>\n",
       "    </tr>\n",
       "    <tr>\n",
       "      <th>27</th>\n",
       "      <td>The Green Mile</td>\n",
       "      <td>78.0</td>\n",
       "      <td>94.0</td>\n",
       "      <td>1999</td>\n",
       "      <td>189 min</td>\n",
       "      <td>Crime, Drama, Fantasy</td>\n",
       "      <td>8.6</td>\n",
       "      <td>61</td>\n",
       "      <td>1157527</td>\n",
       "    </tr>\n",
       "    <tr>\n",
       "      <th>28</th>\n",
       "      <td>Shutter Island</td>\n",
       "      <td>68.0</td>\n",
       "      <td>76.0</td>\n",
       "      <td>2010</td>\n",
       "      <td>138 min</td>\n",
       "      <td>Mystery, Thriller</td>\n",
       "      <td>8.2</td>\n",
       "      <td>63</td>\n",
       "      <td>1141345</td>\n",
       "    </tr>\n",
       "    <tr>\n",
       "      <th>29</th>\n",
       "      <td>Memento</td>\n",
       "      <td>93.0</td>\n",
       "      <td>94.0</td>\n",
       "      <td>2000</td>\n",
       "      <td>113 min</td>\n",
       "      <td>Mystery, Thriller</td>\n",
       "      <td>8.4</td>\n",
       "      <td>80</td>\n",
       "      <td>1132631</td>\n",
       "    </tr>\n",
       "  </tbody>\n",
       "</table>\n",
       "</div>"
      ],
      "text/plain": [
       "                                                movie  rt_critic  rt_audience  \\\n",
       "0                            The Shawshank Redemption       91.0         98.0   \n",
       "1                                     The Dark Knight       94.0         94.0   \n",
       "2                                           Inception       87.0         91.0   \n",
       "3                                          Fight Club       79.0         96.0   \n",
       "4                                        Pulp Fiction       92.0         96.0   \n",
       "5                                        Forrest Gump       71.0         95.0   \n",
       "6                                          The Matrix       88.0         85.0   \n",
       "7   The Lord of the Rings: The Fellowship of the Ring       91.0         95.0   \n",
       "8       The Lord of the Rings: The Return of the King       93.0         86.0   \n",
       "9                                        Interstellar       72.0         86.0   \n",
       "10                              The Dark Knight Rises       87.0         90.0   \n",
       "11              The Lord of the Rings: The Two Towers       95.0         95.0   \n",
       "12                                              Seven       83.0         95.0   \n",
       "13                                   Django Unchained       87.0         91.0   \n",
       "14                                          Gladiator       77.0         87.0   \n",
       "15                                      Batman Begins       84.0         94.0   \n",
       "16                           The Silence of the Lambs       96.0         95.0   \n",
       "17                               Inglourious Basterds       89.0         88.0   \n",
       "18                                       The Avengers       91.0         91.0   \n",
       "19                                       The Avengers       91.0         91.0   \n",
       "20                                       The Avengers        5.0         15.0   \n",
       "21                                       The Avengers        5.0         15.0   \n",
       "22                                Saving Private Ryan       93.0         95.0   \n",
       "23                                   Schindler's List       97.0         97.0   \n",
       "24                            The Wolf of Wall Street       79.0         83.0   \n",
       "25                                       The Prestige       76.0         92.0   \n",
       "26                                       The Departed       90.0         94.0   \n",
       "27                                     The Green Mile       78.0         94.0   \n",
       "28                                     Shutter Island       68.0         76.0   \n",
       "29                                            Memento       93.0         94.0   \n",
       "\n",
       "    year  runtime                      genre  imdb  meta  imdb_votes  \n",
       "0   1994  142 min                      Drama   9.3    80     2360495  \n",
       "1   2008  152 min       Action, Crime, Drama   9.0    84     2319761  \n",
       "2   2010  148 min  Action, Adventure, Sci-Fi   8.8    74     2083710  \n",
       "3   1999  139 min                      Drama   8.8    66     1868351  \n",
       "4   1994  154 min               Crime, Drama   8.9    94     1839615  \n",
       "5   1994  142 min             Drama, Romance   8.8    82     1824422  \n",
       "6   1999  136 min             Action, Sci-Fi   8.7    73     1688772  \n",
       "7   2001  178 min   Action, Adventure, Drama   8.8    92     1672907  \n",
       "8   2003  201 min   Action, Adventure, Drama   8.9    94     1653351  \n",
       "9   2014  169 min   Adventure, Drama, Sci-Fi   8.6    74     1528320  \n",
       "10  2012  164 min          Action, Adventure   8.4    78     1525646  \n",
       "11  2002  179 min   Action, Adventure, Drama   8.7    87     1495193  \n",
       "12  1995  127 min      Crime, Drama, Mystery   8.6    65     1457172  \n",
       "13  2012  165 min             Drama, Western   8.4    81     1369223  \n",
       "14  2000  155 min   Action, Adventure, Drama   8.5    67     1350359  \n",
       "15  2005  140 min          Action, Adventure   8.2    70     1316216  \n",
       "16  1991  118 min     Crime, Drama, Thriller   8.6    85     1281537  \n",
       "17  2009  153 min      Adventure, Drama, War   8.3    69     1278853  \n",
       "18  2012  143 min  Action, Adventure, Sci-Fi   8.0    69     1267516  \n",
       "19  1998   89 min  Action, Adventure, Sci-Fi   3.8    12       41112  \n",
       "20  2012  143 min  Action, Adventure, Sci-Fi   8.0    69     1267516  \n",
       "21  1998   89 min  Action, Adventure, Sci-Fi   3.8    12       41112  \n",
       "22  1998  169 min                 Drama, War   8.6    91     1244660  \n",
       "23  1993  195 min  Biography, Drama, History   8.9    94     1221469  \n",
       "24  2013  180 min    Biography, Crime, Drama   8.2    75     1202039  \n",
       "25  2006  130 min     Drama, Mystery, Sci-Fi   8.5    66     1199425  \n",
       "26  2006  151 min     Crime, Drama, Thriller   8.5    85     1198539  \n",
       "27  1999  189 min      Crime, Drama, Fantasy   8.6    61     1157527  \n",
       "28  2010  138 min          Mystery, Thriller   8.2    63     1141345  \n",
       "29  2000  113 min          Mystery, Thriller   8.4    80     1132631  "
      ]
     },
     "execution_count": 58,
     "metadata": {},
     "output_type": "execute_result"
    }
   ],
   "source": [
    "mov_clean.head(30)"
   ]
  },
  {
   "cell_type": "code",
   "execution_count": 73,
   "id": "fdbe6af8",
   "metadata": {
    "ExecuteTime": {
     "end_time": "2021-09-13T20:46:41.462120Z",
     "start_time": "2021-09-13T20:46:41.449777Z"
    }
   },
   "outputs": [
    {
     "name": "stderr",
     "output_type": "stream",
     "text": [
      "/var/folders/2x/yhx8z7x530jbhg47wgxg5p5w0000gn/T/ipykernel_28142/1134083100.py:1: SettingWithCopyWarning: \n",
      "A value is trying to be set on a copy of a slice from a DataFrame.\n",
      "Try using .loc[row_indexer,col_indexer] = value instead\n",
      "\n",
      "See the caveats in the documentation: https://pandas.pydata.org/pandas-docs/stable/user_guide/indexing.html#returning-a-view-versus-a-copy\n",
      "  mov_clean['rt_critic'] = mov_clean['rt_critic'].astype(int)\n",
      "/var/folders/2x/yhx8z7x530jbhg47wgxg5p5w0000gn/T/ipykernel_28142/1134083100.py:2: SettingWithCopyWarning: \n",
      "A value is trying to be set on a copy of a slice from a DataFrame.\n",
      "Try using .loc[row_indexer,col_indexer] = value instead\n",
      "\n",
      "See the caveats in the documentation: https://pandas.pydata.org/pandas-docs/stable/user_guide/indexing.html#returning-a-view-versus-a-copy\n",
      "  mov_clean['rt_audience'] = mov_clean['rt_audience'].astype(int)\n",
      "/var/folders/2x/yhx8z7x530jbhg47wgxg5p5w0000gn/T/ipykernel_28142/1134083100.py:4: SettingWithCopyWarning: \n",
      "A value is trying to be set on a copy of a slice from a DataFrame.\n",
      "Try using .loc[row_indexer,col_indexer] = value instead\n",
      "\n",
      "See the caveats in the documentation: https://pandas.pydata.org/pandas-docs/stable/user_guide/indexing.html#returning-a-view-versus-a-copy\n",
      "  mov_clean['imdb'] = mov_clean['imdb']*10\n",
      "/var/folders/2x/yhx8z7x530jbhg47wgxg5p5w0000gn/T/ipykernel_28142/1134083100.py:5: SettingWithCopyWarning: \n",
      "A value is trying to be set on a copy of a slice from a DataFrame.\n",
      "Try using .loc[row_indexer,col_indexer] = value instead\n",
      "\n",
      "See the caveats in the documentation: https://pandas.pydata.org/pandas-docs/stable/user_guide/indexing.html#returning-a-view-versus-a-copy\n",
      "  mov_clean['imdb'] = mov_clean['imdb'].astype(int)\n"
     ]
    }
   ],
   "source": [
    "mov_clean['rt_critic'] = mov_clean['rt_critic'].astype(int)\n",
    "mov_clean['rt_audience'] = mov_clean['rt_audience'].astype(int)\n",
    "\n",
    "mov_clean['imdb'] = mov_clean['imdb']*10\n",
    "mov_clean['imdb'] = mov_clean['imdb'].astype(int)"
   ]
  },
  {
   "cell_type": "code",
   "execution_count": 74,
   "id": "457cd382",
   "metadata": {
    "ExecuteTime": {
     "end_time": "2021-09-13T20:46:47.018865Z",
     "start_time": "2021-09-13T20:46:47.005551Z"
    }
   },
   "outputs": [
    {
     "name": "stdout",
     "output_type": "stream",
     "text": [
      "<class 'pandas.core.frame.DataFrame'>\n",
      "Int64Index: 7772 entries, 0 to 8095\n",
      "Data columns (total 9 columns):\n",
      " #   Column       Non-Null Count  Dtype \n",
      "---  ------       --------------  ----- \n",
      " 0   movie        7772 non-null   object\n",
      " 1   rt_critic    7772 non-null   int64 \n",
      " 2   rt_audience  7772 non-null   int64 \n",
      " 3   year         7772 non-null   int64 \n",
      " 4   runtime      7772 non-null   object\n",
      " 5   genre        7772 non-null   object\n",
      " 6   imdb         7772 non-null   int64 \n",
      " 7   meta         7772 non-null   int64 \n",
      " 8   imdb_votes   7772 non-null   int64 \n",
      "dtypes: int64(6), object(3)\n",
      "memory usage: 607.2+ KB\n"
     ]
    }
   ],
   "source": [
    "mov_clean.head(5)\n",
    "mov_clean.info()"
   ]
  },
  {
   "cell_type": "code",
   "execution_count": 75,
   "id": "90b90f9c",
   "metadata": {
    "ExecuteTime": {
     "end_time": "2021-09-13T20:46:54.633492Z",
     "start_time": "2021-09-13T20:46:54.370150Z"
    }
   },
   "outputs": [
    {
     "data": {
      "text/plain": [
       "array([[<AxesSubplot:title={'center':'rt_critic'}>]], dtype=object)"
      ]
     },
     "execution_count": 75,
     "metadata": {},
     "output_type": "execute_result"
    },
    {
     "data": {
      "image/png": "[encoded data removed]",
      "text/plain": [
       "<Figure size 864x576 with 1 Axes>"
      ]
     },
     "metadata": {
      "needs_background": "light"
     },
     "output_type": "display_data"
    }
   ],
   "source": [
    "mov_clean.hist(column='rt_critic', bins=100, figsize=(12,8))"
   ]
  },
  {
   "cell_type": "code",
   "execution_count": 76,
   "id": "4d8cb751",
   "metadata": {
    "ExecuteTime": {
     "end_time": "2021-09-13T20:46:59.413913Z",
     "start_time": "2021-09-13T20:46:59.143493Z"
    }
   },
   "outputs": [
    {
     "data": {
      "text/plain": [
       "array([[<AxesSubplot:title={'center':'rt_audience'}>]], dtype=object)"
      ]
     },
     "execution_count": 76,
     "metadata": {},
     "output_type": "execute_result"
    },
    {
     "data": {
      "image/png": "[encoded data removed]",
      "text/plain": [
       "<Figure size 864x576 with 1 Axes>"
      ]
     },
     "metadata": {
      "needs_background": "light"
     },
     "output_type": "display_data"
    }
   ],
   "source": [
    "mov_clean.hist(column='rt_audience',bins=100, figsize=(12,8))"
   ]
  },
  {
   "cell_type": "code",
   "execution_count": 78,
   "id": "571e0122",
   "metadata": {
    "ExecuteTime": {
     "end_time": "2021-09-13T20:47:06.028742Z",
     "start_time": "2021-09-13T20:47:05.770580Z"
    }
   },
   "outputs": [
    {
     "data": {
      "text/plain": [
       "array([[<AxesSubplot:title={'center':'imdb'}>]], dtype=object)"
      ]
     },
     "execution_count": 78,
     "metadata": {},
     "output_type": "execute_result"
    },
    {
     "data": {
      "image/png": "[encoded data removed]",
      "text/plain": [
       "<Figure size 864x576 with 1 Axes>"
      ]
     },
     "metadata": {
      "needs_background": "light"
     },
     "output_type": "display_data"
    }
   ],
   "source": [
    "mov_clean.hist(column='imdb',bins=100, figsize=(12,8))"
   ]
  },
  {
   "cell_type": "code",
   "execution_count": 79,
   "id": "2d4aaa9f",
   "metadata": {
    "ExecuteTime": {
     "end_time": "2021-09-13T20:47:09.277953Z",
     "start_time": "2021-09-13T20:47:09.016508Z"
    }
   },
   "outputs": [
    {
     "data": {
      "text/plain": [
       "array([[<AxesSubplot:title={'center':'meta'}>]], dtype=object)"
      ]
     },
     "execution_count": 79,
     "metadata": {},
     "output_type": "execute_result"
    },
    {
     "data": {
      "image/png": "[encoded data removed]",
      "text/plain": [
       "<Figure size 864x576 with 1 Axes>"
      ]
     },
     "metadata": {
      "needs_background": "light"
     },
     "output_type": "display_data"
    }
   ],
   "source": [
    "mov_clean.hist(column='meta',bins=100, figsize=(12,8))"
   ]
  },
  {
   "cell_type": "code",
   "execution_count": null,
   "id": "3e6b54ed",
   "metadata": {},
   "outputs": [],
   "source": []
  }
 ],
 "metadata": {
  "kernelspec": {
   "display_name": "Python 3 (ipykernel)",
   "language": "python",
   "name": "python3"
  },
  "language_info": {
   "codemirror_mode": {
    "name": "ipython",
    "version": 3
   },
   "file_extension": ".py",
   "mimetype": "text/x-python",
   "name": "python",
   "nbconvert_exporter": "python",
   "pygments_lexer": "ipython3",
   "version": "3.8.3"
  },
  "varInspector": {
   "cols": {
    "lenName": 16,
    "lenType": 16,
    "lenVar": 40
   },
   "kernels_config": {
    "python": {
     "delete_cmd_postfix": "",
     "delete_cmd_prefix": "del ",
     "library": "var_list.py",
     "varRefreshCmd": "print(var_dic_list())"
    },
    "r": {
     "delete_cmd_postfix": ") ",
     "delete_cmd_prefix": "rm(",
     "library": "var_list.r",
     "varRefreshCmd": "cat(var_dic_list()) "
    }
   },
   "types_to_exclude": [
    "module",
    "function",
    "builtin_function_or_method",
    "instance",
    "_Feature"
   ],
   "window_display": false
  }
 },
 "nbformat": 4,
 "nbformat_minor": 5
}
